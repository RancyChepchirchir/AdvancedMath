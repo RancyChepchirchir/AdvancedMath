{
 "cells": [
  {
   "cell_type": "markdown",
   "metadata": {},
   "source": [
    "# Complex numbers and operation on complex numbers\n",
    "\n",
    "\n",
    "From _A.G. Sveshnokov, A.N. Tikhonov (1982). The theory of functions of a complex variable. Section 1.1_.\n",
    "\n",
    "## The concept of a complex number\n",
    "\n",
    "A complex number $z$ is characterized by a pair of real numbers $(a, b)$. The first number\n",
    "$a$ of the pair $(a, b)$ is called the _real part_ of the complex number $z$ and is denoted\n",
    "by $a =\\mathrm{Re}\\, z$; the second number $b$ of the pair $(a, b)$ is called the\n",
    "_imaginary part_ of the complex number $z$ and is symbolized by $b=\\mathrm{Im}\\, z$.\n",
    "\n",
    "Two complex numbers $z_1 = (a_1, b_1)$ and $z_2 = (a_2, b_2)$ are equal only when both the real\n",
    "and imaginary parts are equal, that is, $z_1 = z_2$ only when $a_1 = a_2$ and $b_1 = b_2$.\n",
    "\n",
    "## Operations on complex numbers\n",
    "\n",
    "Let us now define algebraic operations involving complex numbers.\n",
    "\n",
    "The sum of two complex numbers $z_1 = (a_1, b_1)$ and $z_2 = (a_2, b_2)$ is a complex number\n",
    "$z = (a, b)$, where $a = a_1 + a_2$, $b = b_1 + b_2$. The commutative and associative laws\n",
    "for addition, $z_1 + z_2 = z_2 + z_1$ and $z_1 + (z_2 + z_3) = (z_1 + z_2) + z_3$, hold true.\n",
    "As in the domain of real numbers, zero is a complex number $0$ such that the sum of it and any\n",
    "complex number $z$ is equal to $z$, that is, $z + 0 = z$. There is a unique complex number\n",
    "$0 = (0, 0)$ that possesses this property.\n",
    "\n",
    "The _product_ of the complex numbers $z_1 = (a_1, b_1)$ and $z_2 = (a_2, b_2)$ is a complex\n",
    "number $z = (a, b)$ such that $a = a_1 a_2 - b_1 b_2$, $b = a_1 b_2 + a_2 b_1$. In this\n",
    "definition of a product, we find that the commutative $[z_1 z_2 = z_2 z_1]$, associative\n",
    "$[z_1 (z_2\\cdot z_3) = (z_1\\cdot z_2) z_3]$  and distributive $[(z_1 + z_2) z_3 = z_1 z_3 + z_2 z_3]$\n",
    "laws hold.\n",
    "\n",
    "Let us include the real numbers in the set of complex numbers and regard the real number $a$ as the\n",
    "complex number $a = (a, 0)$. Then, as follows from the definition of the operations of addition\n",
    "and miltiplication, the familiar rules involving real numbers hold true for complex numbers as well.\n",
    "Thus, the set of complex numbers is regarded as an extension of the set of real numbers. Note that\n",
    "multiplication by a real unit $(1, 0)$ does not change a complex number: $z\\cdot 1 = z$.\n",
    "\n",
    "A complex number of the form of the form $z = (0, b)$ is called a _pure imaginary_ number (or just\n",
    "imaginary number) and is symbolized as $z = ib$. The pure imaginary number $(0, b) = ib$ may be\n",
    "regarded as the product of the imaginary unit $(0, 1)$ and real number $(b, 0)$. The imaginary\n",
    "unit is commonly denoted by the symbol $(0, 1) = i$. By virtue of the definition of a product\n",
    "of complex numbers, the following relation holds true: $i\\cdot i = i^2 = -1$. It enables one\n",
    "to attribute a direct algebraig meaning to the _real-imaginary form_ of a complex number:\n",
    "\n",
    "$$ z = (a, b) = a + ib\\, ,$$\n",
    "\n",
    "and perform operations of addition and multiplication of complex numbers in accordance with the\n",
    "usual rules of the algebra of polynomials.\n",
    "\n",
    "The complex number $\\bar{z} = a - ib$ is said to be the complex _conjugate_ of $z = a + ib$.\n",
    "\n",
    "The operation of substraction of complex numbers is defined as the inverse operation of addition.\n",
    "A complex number $z = a + ib$ is termed the _difference_ between the complex numbers $z_1 = a_1 + ib_1$\n",
    "and $z_2 = a_2 + ib_2$ if $a = a_1 - a_2$, $b = b_1 - b_2$.\n",
    "\n",
    "The operation of dividing complex numbers is defined as the inverse operation of multiplication.\n",
    "A complex number $z  = a + ib$ is called the quotient of the complex numbers $z_1 = a_1 + ib_1$ and\n",
    "$z_2 = a_2 + ib_2 \\neq = 0$ if $z_1 = z\\cdot z_2$, whence it follows that the real part $a$ and the\n",
    "imaginary part $b$ of the quotient $z$ are found from the linear system of algebraic equations\n",
    "\n",
    "\\begin{align}\n",
    "  &a_2 a - b_2 b = a_1\\\\\n",
    "  &b_2 a + a_2 b = b_1\n",
    "\\end{align}\n",
    "\n",
    "with the determinant $a_2^2 + b_2^2$ different from zero. Solving this system, we get\n",
    "\n",
    "$$z = \\frac{z_1}{z_2} = \\frac{a_1 a_2 + b_1 b_2}{a_2^2 + b_2^2} + i \\frac{b_1 a_2 - a_1 b_2}{a_2^2 + b_2^2}\\, .$$"
   ]
  },
  {
   "cell_type": "markdown",
   "metadata": {},
   "source": [
    "## Operations on complex numbers using SymPy\n",
    "\n",
    "Let us repeat the operations described above using SymPy."
   ]
  },
  {
   "cell_type": "code",
   "execution_count": 1,
   "metadata": {},
   "outputs": [],
   "source": [
    "from sympy import *\n",
    "init_printing()"
   ]
  },
  {
   "cell_type": "code",
   "execution_count": 2,
   "metadata": {},
   "outputs": [],
   "source": [
    "a, a1, a2, a3 = symbols(\"a a1 a2 a3\", real=True)\n",
    "b, b1, b2, b3 = symbols(\"b b1 b2 b3\", real=True)"
   ]
  },
  {
   "cell_type": "markdown",
   "metadata": {},
   "source": [
    "In SymPy the imaginary unit is represented by ``I``."
   ]
  },
  {
   "cell_type": "code",
   "execution_count": 3,
   "metadata": {},
   "outputs": [
    {
     "data": {
      "image/png": "[encoded data removed]",
      "text/latex": [
       "$$-1$$"
      ],
      "text/plain": [
       "-1"
      ]
     },
     "execution_count": 3,
     "metadata": {},
     "output_type": "execute_result"
    }
   ],
   "source": [
    "I**2"
   ]
  },
  {
   "cell_type": "code",
   "execution_count": 4,
   "metadata": {},
   "outputs": [
    {
     "data": {
      "image/png": "[encoded data removed]",
      "text/latex": [
       "$$a_{1} + i b_{1}$$"
      ],
      "text/plain": [
       "a₁ + ⅈ⋅b₁"
      ]
     },
     "metadata": {},
     "output_type": "display_data"
    },
    {
     "data": {
      "image/png": "[encoded data removed]",
      "text/latex": [
       "$$a_{2} + i b_{2}$$"
      ],
      "text/plain": [
       "a₂ + ⅈ⋅b₂"
      ]
     },
     "metadata": {},
     "output_type": "display_data"
    },
    {
     "data": {
      "image/png": "[encoded data removed]",
      "text/latex": [
       "$$a_{3} + i b_{3}$$"
      ],
      "text/plain": [
       "a₃ + ⅈ⋅b₃"
      ]
     },
     "metadata": {},
     "output_type": "display_data"
    }
   ],
   "source": [
    "z1 = a1 + b1*I\n",
    "z2 = a2 + b2*I\n",
    "z3 = a3 + b3*I\n",
    "display(z1)\n",
    "display(z2)\n",
    "display(z3)"
   ]
  },
  {
   "cell_type": "markdown",
   "metadata": {},
   "source": [
    "### Real and imaginary parts"
   ]
  },
  {
   "cell_type": "code",
   "execution_count": 5,
   "metadata": {},
   "outputs": [
    {
     "data": {
      "image/png": "[encoded data removed]",
      "text/latex": [
       "$$a_{1}$$"
      ],
      "text/plain": [
       "a₁"
      ]
     },
     "metadata": {},
     "output_type": "display_data"
    },
    {
     "data": {
      "image/png": "[encoded data removed]",
      "text/latex": [
       "$$a_{2}$$"
      ],
      "text/plain": [
       "a₂"
      ]
     },
     "metadata": {},
     "output_type": "display_data"
    }
   ],
   "source": [
    "# Real part\n",
    "display(re(z1))\n",
    "display(re(z2))"
   ]
  },
  {
   "cell_type": "code",
   "execution_count": 6,
   "metadata": {},
   "outputs": [
    {
     "data": {
      "image/png": "[encoded data removed]",
      "text/latex": [
       "$$b_{1}$$"
      ],
      "text/plain": [
       "b₁"
      ]
     },
     "metadata": {},
     "output_type": "display_data"
    },
    {
     "data": {
      "image/png": "[encoded data removed]",
      "text/latex": [
       "$$b_{2}$$"
      ],
      "text/plain": [
       "b₂"
      ]
     },
     "metadata": {},
     "output_type": "display_data"
    }
   ],
   "source": [
    "# Imaginary part\n",
    "display(im(z1))\n",
    "display(im(z2))"
   ]
  },
  {
   "cell_type": "markdown",
   "metadata": {},
   "source": [
    "### Addition"
   ]
  },
  {
   "cell_type": "code",
   "execution_count": 7,
   "metadata": {},
   "outputs": [
    {
     "data": {
      "image/png": "[encoded data removed]",
      "text/latex": [
       "$$a_{1} + a_{2} + i b_{1} + i b_{2}$$"
      ],
      "text/plain": [
       "a₁ + a₂ + ⅈ⋅b₁ + ⅈ⋅b₂"
      ]
     },
     "metadata": {},
     "output_type": "display_data"
    },
    {
     "data": {
      "image/png": "[encoded data removed]",
      "text/latex": [
       "$$a_{1} + a_{2}$$"
      ],
      "text/plain": [
       "a₁ + a₂"
      ]
     },
     "metadata": {},
     "output_type": "display_data"
    },
    {
     "data": {
      "image/png": "[encoded data removed]",
      "text/latex": [
       "$$b_{1} + b_{2}$$"
      ],
      "text/plain": [
       "b₁ + b₂"
      ]
     },
     "metadata": {},
     "output_type": "display_data"
    }
   ],
   "source": [
    "display(z1 + z2)\n",
    "display(re(z1 + z2))\n",
    "display(im(z1 + z2))"
   ]
  },
  {
   "cell_type": "markdown",
   "metadata": {},
   "source": [
    "Addition is commutative"
   ]
  },
  {
   "cell_type": "code",
   "execution_count": 8,
   "metadata": {},
   "outputs": [
    {
     "data": {
      "image/png": "[encoded data removed]",
      "text/latex": [
       "$$a_{1} + a_{2} + i b_{1} + i b_{2}$$"
      ],
      "text/plain": [
       "a₁ + a₂ + ⅈ⋅b₁ + ⅈ⋅b₂"
      ]
     },
     "metadata": {},
     "output_type": "display_data"
    },
    {
     "data": {
      "image/png": "[encoded data removed]",
      "text/latex": [
       "$$a_{1} + a_{2} + i b_{1} + i b_{2}$$"
      ],
      "text/plain": [
       "a₁ + a₂ + ⅈ⋅b₁ + ⅈ⋅b₂"
      ]
     },
     "metadata": {},
     "output_type": "display_data"
    }
   ],
   "source": [
    "display(z1 + z2)\n",
    "display(z2 + z1)"
   ]
  },
  {
   "cell_type": "markdown",
   "metadata": {},
   "source": [
    "Addition is also associative"
   ]
  },
  {
   "cell_type": "code",
   "execution_count": 9,
   "metadata": {},
   "outputs": [
    {
     "data": {
      "image/png": "[encoded data removed]",
      "text/latex": [
       "$$a_{1} + a_{2} + a_{3} + i b_{1} + i b_{2} + i b_{3}$$"
      ],
      "text/plain": [
       "a₁ + a₂ + a₃ + ⅈ⋅b₁ + ⅈ⋅b₂ + ⅈ⋅b₃"
      ]
     },
     "metadata": {},
     "output_type": "display_data"
    },
    {
     "data": {
      "image/png": "[encoded data removed]",
      "text/latex": [
       "$$a_{1} + a_{2} + a_{3} + i b_{1} + i b_{2} + i b_{3}$$"
      ],
      "text/plain": [
       "a₁ + a₂ + a₃ + ⅈ⋅b₁ + ⅈ⋅b₂ + ⅈ⋅b₃"
      ]
     },
     "metadata": {},
     "output_type": "display_data"
    }
   ],
   "source": [
    "display(z1 + (z2 + z3))\n",
    "display((z1 + z2) + z3)"
   ]
  },
  {
   "cell_type": "markdown",
   "metadata": {},
   "source": [
    "### Multiplication"
   ]
  },
  {
   "cell_type": "code",
   "execution_count": 10,
   "metadata": {},
   "outputs": [
    {
     "data": {
      "image/png": "[encoded data removed]",
      "text/latex": [
       "$$\\left(a_{1} + i b_{1}\\right) \\left(a_{2} + i b_{2}\\right)$$"
      ],
      "text/plain": [
       "(a₁ + ⅈ⋅b₁)⋅(a₂ + ⅈ⋅b₂)"
      ]
     },
     "metadata": {},
     "output_type": "display_data"
    },
    {
     "data": {
      "image/png": "[encoded data removed]",
      "text/latex": [
       "$$a_{1} a_{2} - b_{1} b_{2}$$"
      ],
      "text/plain": [
       "a₁⋅a₂ - b₁⋅b₂"
      ]
     },
     "metadata": {},
     "output_type": "display_data"
    },
    {
     "data": {
      "image/png": "[encoded data removed]",
      "text/latex": [
       "$$a_{1} b_{2} + a_{2} b_{1}$$"
      ],
      "text/plain": [
       "a₁⋅b₂ + a₂⋅b₁"
      ]
     },
     "metadata": {},
     "output_type": "display_data"
    }
   ],
   "source": [
    "display(z1 * z2)\n",
    "display(re(z1 * z2))\n",
    "display(im(z1 * z2))"
   ]
  },
  {
   "cell_type": "markdown",
   "metadata": {},
   "source": [
    "Multiplication is commutative"
   ]
  },
  {
   "cell_type": "code",
   "execution_count": 11,
   "metadata": {},
   "outputs": [
    {
     "data": {
      "image/png": "[encoded data removed]",
      "text/latex": [
       "$$\\left(a_{1} + i b_{1}\\right) \\left(a_{2} + i b_{2}\\right)$$"
      ],
      "text/plain": [
       "(a₁ + ⅈ⋅b₁)⋅(a₂ + ⅈ⋅b₂)"
      ]
     },
     "metadata": {},
     "output_type": "display_data"
    },
    {
     "data": {
      "image/png": "[encoded data removed]",
      "text/latex": [
       "$$\\left(a_{1} + i b_{1}\\right) \\left(a_{2} + i b_{2}\\right)$$"
      ],
      "text/plain": [
       "(a₁ + ⅈ⋅b₁)⋅(a₂ + ⅈ⋅b₂)"
      ]
     },
     "metadata": {},
     "output_type": "display_data"
    }
   ],
   "source": [
    "display(z1 * z2)\n",
    "display(z2 * z1)"
   ]
  },
  {
   "cell_type": "markdown",
   "metadata": {},
   "source": [
    "Multiplication is associative"
   ]
  },
  {
   "cell_type": "code",
   "execution_count": 12,
   "metadata": {},
   "outputs": [
    {
     "data": {
      "image/png": "[encoded data removed]",
      "text/latex": [
       "$$a_{1} a_{2} a_{3} + i a_{1} a_{2} b_{3} + i a_{1} a_{3} b_{2} - a_{1} b_{2} b_{3} + i a_{2} a_{3} b_{1} - a_{2} b_{1} b_{3} - a_{3} b_{1} b_{2} - i b_{1} b_{2} b_{3}$$"
      ],
      "text/plain": [
       "a₁⋅a₂⋅a₃ + ⅈ⋅a₁⋅a₂⋅b₃ + ⅈ⋅a₁⋅a₃⋅b₂ - a₁⋅b₂⋅b₃ + ⅈ⋅a₂⋅a₃⋅b₁ - a₂⋅b₁⋅b₃ - a₃⋅b₁⋅\n",
       "b₂ - ⅈ⋅b₁⋅b₂⋅b₃"
      ]
     },
     "metadata": {},
     "output_type": "display_data"
    },
    {
     "data": {
      "image/png": "[encoded data removed]",
      "text/latex": [
       "$$a_{1} a_{2} a_{3} + i a_{1} a_{2} b_{3} + i a_{1} a_{3} b_{2} - a_{1} b_{2} b_{3} + i a_{2} a_{3} b_{1} - a_{2} b_{1} b_{3} - a_{3} b_{1} b_{2} - i b_{1} b_{2} b_{3}$$"
      ],
      "text/plain": [
       "a₁⋅a₂⋅a₃ + ⅈ⋅a₁⋅a₂⋅b₃ + ⅈ⋅a₁⋅a₃⋅b₂ - a₁⋅b₂⋅b₃ + ⅈ⋅a₂⋅a₃⋅b₁ - a₂⋅b₁⋅b₃ - a₃⋅b₁⋅\n",
       "b₂ - ⅈ⋅b₁⋅b₂⋅b₃"
      ]
     },
     "metadata": {},
     "output_type": "display_data"
    }
   ],
   "source": [
    "display(expand(z1 * (z2 * z3)))\n",
    "display(expand((z1 * z2) * z3))"
   ]
  },
  {
   "cell_type": "markdown",
   "metadata": {},
   "source": [
    "Multiplication is distributive over addition"
   ]
  },
  {
   "cell_type": "code",
   "execution_count": 13,
   "metadata": {},
   "outputs": [
    {
     "data": {
      "image/png": "[encoded data removed]",
      "text/latex": [
       "$$a_{1} a_{3} + i a_{1} b_{3} + a_{2} a_{3} + i a_{2} b_{3} + i a_{3} b_{1} + i a_{3} b_{2} - b_{1} b_{3} - b_{2} b_{3}$$"
      ],
      "text/plain": [
       "a₁⋅a₃ + ⅈ⋅a₁⋅b₃ + a₂⋅a₃ + ⅈ⋅a₂⋅b₃ + ⅈ⋅a₃⋅b₁ + ⅈ⋅a₃⋅b₂ - b₁⋅b₃ - b₂⋅b₃"
      ]
     },
     "metadata": {},
     "output_type": "display_data"
    },
    {
     "data": {
      "image/png": "[encoded data removed]",
      "text/latex": [
       "$$a_{1} a_{3} + i a_{1} b_{3} + a_{2} a_{3} + i a_{2} b_{3} + i a_{3} b_{1} + i a_{3} b_{2} - b_{1} b_{3} - b_{2} b_{3}$$"
      ],
      "text/plain": [
       "a₁⋅a₃ + ⅈ⋅a₁⋅b₃ + a₂⋅a₃ + ⅈ⋅a₂⋅b₃ + ⅈ⋅a₃⋅b₁ + ⅈ⋅a₃⋅b₂ - b₁⋅b₃ - b₂⋅b₃"
      ]
     },
     "metadata": {},
     "output_type": "display_data"
    }
   ],
   "source": [
    "display(expand((z1 + z2) * z3))\n",
    "display(expand(z1 * z3 + z2 * z3))"
   ]
  },
  {
   "cell_type": "markdown",
   "metadata": {},
   "source": [
    "### Complex conjugate"
   ]
  },
  {
   "cell_type": "code",
   "execution_count": 14,
   "metadata": {},
   "outputs": [
    {
     "data": {
      "image/png": "[encoded data removed]",
      "text/latex": [
       "$$a_{1} + i b_{1}$$"
      ],
      "text/plain": [
       "a₁ + ⅈ⋅b₁"
      ]
     },
     "metadata": {},
     "output_type": "display_data"
    },
    {
     "data": {
      "image/png": "[encoded data removed]",
      "text/latex": [
       "$$a_{1} - i b_{1}$$"
      ],
      "text/plain": [
       "a₁ - ⅈ⋅b₁"
      ]
     },
     "metadata": {},
     "output_type": "display_data"
    }
   ],
   "source": [
    "display(z1)\n",
    "display(conjugate(z1))"
   ]
  },
  {
   "cell_type": "markdown",
   "metadata": {},
   "source": [
    "### Difference"
   ]
  },
  {
   "cell_type": "code",
   "execution_count": 15,
   "metadata": {},
   "outputs": [
    {
     "data": {
      "image/png": "[encoded data removed]",
      "text/latex": [
       "$$a_{1} - a_{2} + i b_{1} - i b_{2}$$"
      ],
      "text/plain": [
       "a₁ - a₂ + ⅈ⋅b₁ - ⅈ⋅b₂"
      ]
     },
     "metadata": {},
     "output_type": "display_data"
    },
    {
     "data": {
      "image/png": "[encoded data removed]",
      "text/latex": [
       "$$a_{1} - a_{2}$$"
      ],
      "text/plain": [
       "a₁ - a₂"
      ]
     },
     "metadata": {},
     "output_type": "display_data"
    },
    {
     "data": {
      "image/png": "[encoded data removed]",
      "text/latex": [
       "$$b_{1} - b_{2}$$"
      ],
      "text/plain": [
       "b₁ - b₂"
      ]
     },
     "metadata": {},
     "output_type": "display_data"
    }
   ],
   "source": [
    "display(z1 - z2)\n",
    "display(re(z1 - z2))\n",
    "display(im(z1 - z2))"
   ]
  },
  {
   "cell_type": "markdown",
   "metadata": {},
   "source": [
    "### Division"
   ]
  },
  {
   "cell_type": "code",
   "execution_count": 16,
   "metadata": {},
   "outputs": [
    {
     "data": {
      "image/png": "[encoded data removed]",
      "text/latex": [
       "$$\\frac{a_{1} + i b_{1}}{a_{2} + i b_{2}}$$"
      ],
      "text/plain": [
       "a₁ + ⅈ⋅b₁\n",
       "─────────\n",
       "a₂ + ⅈ⋅b₂"
      ]
     },
     "metadata": {},
     "output_type": "display_data"
    },
    {
     "data": {
      "image/png": "[encoded data removed]",
      "text/latex": [
       "$$\\frac{a_{1} a_{2} + b_{1} b_{2}}{a_{2}^{2} + b_{2}^{2}}$$"
      ],
      "text/plain": [
       "a₁⋅a₂ + b₁⋅b₂\n",
       "─────────────\n",
       "    2     2  \n",
       "  a₂  + b₂   "
      ]
     },
     "metadata": {},
     "output_type": "display_data"
    },
    {
     "data": {
      "image/png": "[encoded data removed]",
      "text/latex": [
       "$$- \\frac{a_{1} b_{2} - a_{2} b_{1}}{a_{2}^{2} + b_{2}^{2}}$$"
      ],
      "text/plain": [
       "-(a₁⋅b₂ - a₂⋅b₁) \n",
       "─────────────────\n",
       "      2     2    \n",
       "    a₂  + b₂     "
      ]
     },
     "metadata": {},
     "output_type": "display_data"
    }
   ],
   "source": [
    "display(z1 / z2)\n",
    "display(factor(re(z1 / z2)))\n",
    "display(factor(im(z1 / z2)))"
   ]
  },
  {
   "cell_type": "markdown",
   "metadata": {},
   "source": [
    "## The geometric interpretation of complex numbers\n",
    "\n",
    "The study of complex numbers is greatly facilitated by interpretating them geometrically.\n",
    "Insofar as a complex number is defined as a pair of real numbers, it is natural to depict\n",
    "the complex number $z = a + ib$ as a point in the $x$, $y$-plane with Cartesian coordinates\n",
    "$x = a$ and $y = b$. The number $z=0$ corresponds to the origin of the plane. We shall henceforward\n",
    "call this the _complex plane_; the axis of the abscissas is the _real_ axis, the axis of\n",
    "the ordinates is the _imaginary_ axis of the complex plane. We have thus established a\n",
    "reciprocal one-to-one correspondence between the set of all complex numbers and the set of\n",
    "points the complex plane, and also between the set of al complex numbers $z = a + ib$ and the\n",
    "set of free vectors, the projections $x$ and $y$ of which on the axis of abscissas and the\n",
    "axis of ordinates are, respectively, equal to $a$ and $b$.\n",
    "\n",
    "There is another extremely important form of representing complex numbers. It is possible to\n",
    "define the position of a point in the plane by means of polar coordinates $(\\rho, \\varphi)$, where\n",
    "$\\rho$ is the distance of the point from the origin, and $\\varphi$ is the angle between the\n",
    "radius vector with the positive direction of the axis of abscissas. The positive direction of the\n",
    "variation of the angle $\\varphi$ is counterclockwise $(-\\infty < \\varphi < \\infty)$. Taking\n",
    "advantage of the relationship between Cartesian and polar coordinates\n",
    "\n",
    "\\begin{align}\n",
    "  &x = \\rho \\cos\\varphi\\\\\n",
    "  &y = \\rho \\sin\\varphi\\, ,\n",
    "\\end{align}\n",
    "\n",
    "we get the so-called _trigonometric form_ (or polar form) of a complex number:\n",
    "\n",
    "$$z = \\rho(\\cos\\varphi + i\\sin\\varphi)\\, .$$"
   ]
  },
  {
   "cell_type": "code",
   "execution_count": 21,
   "metadata": {},
   "outputs": [
    {
     "data": {
      "image/png": "[encoded data removed]",
      "text/latex": [
       "$$\\sqrt{a_{1}^{2} + b_{1}^{2}}$$"
      ],
      "text/plain": [
       "   ___________\n",
       "  ╱   2     2 \n",
       "╲╱  a₁  + b₁  "
      ]
     },
     "execution_count": 21,
     "metadata": {},
     "output_type": "execute_result"
    }
   ],
   "source": [
    "Abs(z1)"
   ]
  },
  {
   "cell_type": "code",
   "execution_count": null,
   "metadata": {},
   "outputs": [],
   "source": []
  }
 ],
 "metadata": {
  "kernelspec": {
   "display_name": "Python [default]",
   "language": "python",
   "name": "python3"
  },
  "language_info": {
   "codemirror_mode": {
    "name": "ipython",
    "version": 3
   },
   "file_extension": ".py",
   "mimetype": "text/x-python",
   "name": "python",
   "nbconvert_exporter": "python",
   "pygments_lexer": "ipython3",
   "version": "3.6.4"
  }
 },
 "nbformat": 4,
 "nbformat_minor": 2
}
