{
 "cells": [
  {
   "cell_type": "markdown",
   "metadata": {},
   "source": [
    "# Tutorial - SymPy in 10 minutes\n",
    "\n",
    "In this tutorial we will learn the basics of [Jupyter](http://jupyter.org/) and [SymPy](https://es.wikipedia.org/wiki/SymPy). SymPy is a Python library for symbolic computation. It provides computer algebra capabilities either as a standalone application, as a library to other applications, or live on the web as [SymPy Live](http://live.sympy.org/) or [SymPy Gamma](http://www.sympygamma.com/). Sympy is similar to other CAS (Computer Algebra Software) like Mathematica, Maple or Maxima.\n",
    "\n",
    "A more complete tutorial can be found at [http://docs.sympy.org/latest/tutorial/index.html](http://docs.sympy.org/latest/tutorial/index.html).\n",
    "\n",
    "Before using SymPy we should load it, like any other Python libary. We will use ``init_session()`` to make some imports, this will help us in its interactive use."
   ]
  },
  {
   "cell_type": "code",
   "execution_count": 1,
   "metadata": {
    "collapsed": false
   },
   "outputs": [
    {
     "name": "stdout",
     "output_type": "stream",
     "text": [
      "IPython console for SymPy 1.0 (Python 2.7.12-32-bit) (ground types: python)\n",
      "\n",
      "These commands were executed:\n",
      ">>> from __future__ import division\n",
      ">>> from sympy import *\n",
      ">>> x, y, z, t = symbols('x y z t')\n",
      ">>> k, m, n = symbols('k m n', integer=True)\n",
      ">>> f, g, h = symbols('f g h', cls=Function)\n",
      ">>> init_printing()\n",
      "\n",
      "Documentation can be found at http://docs.sympy.org/1.0/\n"
     ]
    }
   ],
   "source": [
    "from sympy import *\n",
    "init_session()"
   ]
  },
  {
   "cell_type": "markdown",
   "metadata": {},
   "source": [
    "Let us start with some simple calculations. Belowe we have a _code cell_ with an addition. Place the cursor on it and press SHIFT + ENTER to evaluate it."
   ]
  },
  {
   "cell_type": "code",
   "execution_count": 2,
   "metadata": {
    "collapsed": false
   },
   "outputs": [
    {
     "data": {
      "image/png": "[encoded data removed]",
      "text/latex": [
       "$$4$$"
      ],
      "text/plain": [
       "4"
      ]
     },
     "execution_count": 2,
     "metadata": {},
     "output_type": "execute_result"
    }
   ],
   "source": [
    "1 + 3"
   ]
  },
  {
   "cell_type": "markdown",
   "metadata": {},
   "source": [
    "Let us make some calculations"
   ]
  },
  {
   "cell_type": "code",
   "execution_count": 3,
   "metadata": {
    "collapsed": false
   },
   "outputs": [
    {
     "data": {
      "image/png": "[encoded data removed]",
      "text/latex": [
       "$$120$$"
      ],
      "text/plain": [
       "120"
      ]
     },
     "execution_count": 3,
     "metadata": {},
     "output_type": "execute_result"
    }
   ],
   "source": [
    "factorial(5)"
   ]
  },
  {
   "cell_type": "code",
   "execution_count": 4,
   "metadata": {
    "collapsed": false
   },
   "outputs": [
    {
     "data": {
      "image/png": "[encoded data removed]",
      "text/latex": [
       "$$40$$"
      ],
      "text/plain": [
       "40"
      ]
     },
     "execution_count": 4,
     "metadata": {},
     "output_type": "execute_result"
    }
   ],
   "source": [
    "Out[2]* 10"
   ]
  },
  {
   "cell_type": "code",
   "execution_count": 5,
   "metadata": {
    "collapsed": false
   },
   "outputs": [
    {
     "data": {
      "image/png": "[encoded data removed]",
      "text/latex": [
       "$$0$$"
      ],
      "text/plain": [
       "0"
      ]
     },
     "execution_count": 5,
     "metadata": {},
     "output_type": "execute_result"
    }
   ],
   "source": [
    "1 // 3"
   ]
  },
  {
   "cell_type": "code",
   "execution_count": 6,
   "metadata": {
    "collapsed": false
   },
   "outputs": [
    {
     "data": {
      "image/png": "[encoded data removed]",
      "text/latex": [
       "$$0.333333333333$$"
      ],
      "text/plain": [
       "0.333333333333"
      ]
     },
     "execution_count": 6,
     "metadata": {},
     "output_type": "execute_result"
    }
   ],
   "source": [
    "1 / 3"
   ]
  },
  {
   "cell_type": "code",
   "execution_count": 7,
   "metadata": {
    "collapsed": false
   },
   "outputs": [
    {
     "data": {
      "image/png": "[encoded data removed]",
      "text/latex": [
       "$$\\frac{1}{3}$$"
      ],
      "text/plain": [
       "1/3"
      ]
     },
     "execution_count": 7,
     "metadata": {},
     "output_type": "execute_result"
    }
   ],
   "source": [
    "S(1) / 3"
   ]
  },
  {
   "cell_type": "markdown",
   "metadata": {},
   "source": [
    "We can evaluate an expression to its floating point version"
   ]
  },
  {
   "cell_type": "code",
   "execution_count": 8,
   "metadata": {
    "collapsed": false
   },
   "outputs": [
    {
     "data": {
      "image/png": "[encoded data removed]",
      "text/latex": [
       "$$\\sqrt{2} \\sqrt{\\pi}$$"
      ],
      "text/plain": [
       "√2⋅√π"
      ]
     },
     "execution_count": 8,
     "metadata": {},
     "output_type": "execute_result"
    }
   ],
   "source": [
    "sqrt(2*pi)"
   ]
  },
  {
   "cell_type": "code",
   "execution_count": 9,
   "metadata": {
    "collapsed": false
   },
   "outputs": [
    {
     "data": {
      "image/png": "[encoded data removed]",
      "text/latex": [
       "$$0.333333333333$$"
      ],
      "text/plain": [
       "0.333333333333"
      ]
     },
     "execution_count": 9,
     "metadata": {},
     "output_type": "execute_result"
    }
   ],
   "source": [
    "float(Out[7])"
   ]
  },
  {
   "cell_type": "markdown",
   "metadata": {},
   "source": [
    "In the previous line we used the expression **Out[7]** that stores the output from the evaluation in cell 7 (In[7]). We can also store expressions as variables, just as any Python variable."
   ]
  },
  {
   "cell_type": "code",
   "execution_count": 10,
   "metadata": {
    "collapsed": false
   },
   "outputs": [],
   "source": [
    "radius = 10\n",
    "height = 100\n",
    "area = pi * radius**2\n",
    "volume = area * height"
   ]
  },
  {
   "cell_type": "code",
   "execution_count": 11,
   "metadata": {
    "collapsed": false
   },
   "outputs": [
    {
     "data": {
      "image/png": "[encoded data removed]",
      "text/latex": [
       "$$10000 \\pi$$"
      ],
      "text/plain": [
       "10000⋅π"
      ]
     },
     "execution_count": 11,
     "metadata": {},
     "output_type": "execute_result"
    }
   ],
   "source": [
    "volume"
   ]
  },
  {
   "cell_type": "code",
   "execution_count": 12,
   "metadata": {
    "collapsed": false
   },
   "outputs": [
    {
     "data": {
      "image/png": "[encoded data removed]",
      "text/latex": [
       "$$31415.9265359$$"
      ],
      "text/plain": [
       "31415.9265359"
      ]
     },
     "execution_count": 12,
     "metadata": {},
     "output_type": "execute_result"
    }
   ],
   "source": [
    "float(volume)"
   ]
  },
  {
   "cell_type": "markdown",
   "metadata": {},
   "source": [
    "So far, we have just used SymPy as a calculator. Let us try more advanced calculations\n",
    "\n"
   ]
  },
  {
   "cell_type": "markdown",
   "metadata": {},
   "source": [
    "Definite and indefinite integrals"
   ]
  },
  {
   "cell_type": "code",
   "execution_count": 13,
   "metadata": {
    "collapsed": false
   },
   "outputs": [
    {
     "data": {
      "image/png": "[encoded data removed]",
      "text/latex": [
       "$$- \\cos{\\left (x \\right )}$$"
      ],
      "text/plain": [
       "-cos(x)"
      ]
     },
     "execution_count": 13,
     "metadata": {},
     "output_type": "execute_result"
    }
   ],
   "source": [
    "integrate(sin(x), x)"
   ]
  },
  {
   "cell_type": "code",
   "execution_count": 14,
   "metadata": {
    "collapsed": false
   },
   "outputs": [
    {
     "data": {
      "image/png": "[encoded data removed]",
      "text/latex": [
       "$$2$$"
      ],
      "text/plain": [
       "2"
      ]
     },
     "execution_count": 14,
     "metadata": {},
     "output_type": "execute_result"
    }
   ],
   "source": [
    "integrate(sin(x), (x, 0, pi))"
   ]
  },
  {
   "cell_type": "markdown",
   "metadata": {},
   "source": [
    "We can define a function and integrate it"
   ]
  },
  {
   "cell_type": "code",
   "execution_count": 15,
   "metadata": {
    "collapsed": false
   },
   "outputs": [],
   "source": [
    "f = lambda x: x**2 + 5"
   ]
  },
  {
   "cell_type": "code",
   "execution_count": 16,
   "metadata": {
    "collapsed": false,
    "scrolled": true
   },
   "outputs": [
    {
     "data": {
      "image/png": "[encoded data removed]",
      "text/latex": [
       "$$30$$"
      ],
      "text/plain": [
       "30"
      ]
     },
     "execution_count": 16,
     "metadata": {},
     "output_type": "execute_result"
    }
   ],
   "source": [
    "f(5)"
   ]
  },
  {
   "cell_type": "code",
   "execution_count": 17,
   "metadata": {
    "collapsed": false
   },
   "outputs": [
    {
     "data": {
      "image/png": "[encoded data removed]",
      "text/latex": [
       "$$\\frac{z^{3}}{3} + 5 z$$"
      ],
      "text/plain": [
       " 3      \n",
       "z       \n",
       "── + 5⋅z\n",
       "3       "
      ]
     },
     "execution_count": 17,
     "metadata": {},
     "output_type": "execute_result"
    }
   ],
   "source": [
    "integrate(f(z), z)"
   ]
  },
  {
   "cell_type": "code",
   "execution_count": 18,
   "metadata": {
    "collapsed": false
   },
   "outputs": [
    {
     "data": {
      "image/png": "[encoded data removed]",
      "text/latex": [
       "$$- \\frac{\\sqrt{- \\frac{1}{y}}}{2} \\log{\\left (x - y \\sqrt{- \\frac{1}{y}} \\right )} + \\frac{\\sqrt{- \\frac{1}{y}}}{2} \\log{\\left (x + y \\sqrt{- \\frac{1}{y}} \\right )}$$"
      ],
      "text/plain": [
       "      _____    ⎛          _____⎞       _____    ⎛          _____⎞\n",
       "     ╱ -1      ⎜         ╱ -1  ⎟      ╱ -1      ⎜         ╱ -1  ⎟\n",
       "    ╱  ─── ⋅log⎜x - y⋅  ╱  ─── ⎟     ╱  ─── ⋅log⎜x + y⋅  ╱  ─── ⎟\n",
       "  ╲╱    y      ⎝      ╲╱    y  ⎠   ╲╱    y      ⎝      ╲╱    y  ⎠\n",
       "- ────────────────────────────── + ──────────────────────────────\n",
       "                2                                2               "
      ]
     },
     "execution_count": 18,
     "metadata": {},
     "output_type": "execute_result"
    }
   ],
   "source": [
    "integrate(1/(x**2 + y), x)"
   ]
  },
  {
   "cell_type": "markdown",
   "metadata": {},
   "source": [
    "If we assume that the denominator is positive, the expression can be factorized further\n"
   ]
  },
  {
   "cell_type": "code",
   "execution_count": 19,
   "metadata": {
    "collapsed": false
   },
   "outputs": [
    {
     "data": {
      "image/png": "[encoded data removed]",
      "text/latex": [
       "$$\\frac{1}{\\sqrt{a}} \\operatorname{atan}{\\left (\\frac{x}{\\sqrt{a}} \\right )}$$"
      ],
      "text/plain": [
       "    ⎛x ⎞\n",
       "atan⎜──⎟\n",
       "    ⎝√a⎠\n",
       "────────\n",
       "   √a   "
      ]
     },
     "execution_count": 19,
     "metadata": {},
     "output_type": "execute_result"
    }
   ],
   "source": [
    "a = symbols(\"a\", positive=True)\n",
    "integrate(1/(x**2 + a), x)"
   ]
  },
  {
   "cell_type": "markdown",
   "metadata": {
    "collapsed": true
   },
   "source": [
    "We just learnt the basics, we can try some examples now.\n",
    "\n",
    "**Note:** If you want to know more about a specific function you can use ``help()`` or the IPython magic command ``??``"
   ]
  },
  {
   "cell_type": "code",
   "execution_count": 20,
   "metadata": {
    "collapsed": false
   },
   "outputs": [
    {
     "name": "stdout",
     "output_type": "stream",
     "text": [
      "Help on function integrate in module sympy.integrals.integrals:\n",
      "\n",
      "integrate(*args, **kwargs)\n",
      "    integrate(f, var, ...)\n",
      "    \n",
      "    Compute definite or indefinite integral of one or more variables\n",
      "    using Risch-Norman algorithm and table lookup. This procedure is\n",
      "    able to handle elementary algebraic and transcendental functions\n",
      "    and also a huge class of special functions, including Airy,\n",
      "    Bessel, Whittaker and Lambert.\n",
      "    \n",
      "    var can be:\n",
      "    \n",
      "    - a symbol                   -- indefinite integration\n",
      "    - a tuple (symbol, a)        -- indefinite integration with result\n",
      "                                    given with `a` replacing `symbol`\n",
      "    - a tuple (symbol, a, b)     -- definite integration\n",
      "    \n",
      "    Several variables can be specified, in which case the result is\n",
      "    multiple integration. (If var is omitted and the integrand is\n",
      "    univariate, the indefinite integral in that variable will be performed.)\n",
      "    \n",
      "    Indefinite integrals are returned without terms that are independent\n",
      "    of the integration variables. (see examples)\n",
      "    \n",
      "    Definite improper integrals often entail delicate convergence\n",
      "    conditions. Pass conds='piecewise', 'separate' or 'none' to have\n",
      "    these returned, respectively, as a Piecewise function, as a separate\n",
      "    result (i.e. result will be a tuple), or not at all (default is\n",
      "    'piecewise').\n",
      "    \n",
      "    **Strategy**\n",
      "    \n",
      "    SymPy uses various approaches to definite integration. One method is to\n",
      "    find an antiderivative for the integrand, and then use the fundamental\n",
      "    theorem of calculus. Various functions are implemented to integrate\n",
      "    polynomial, rational and trigonometric functions, and integrands\n",
      "    containing DiracDelta terms.\n",
      "    \n",
      "    SymPy also implements the part of the Risch algorithm, which is a decision\n",
      "    procedure for integrating elementary functions, i.e., the algorithm can\n",
      "    either find an elementary antiderivative, or prove that one does not\n",
      "    exist.  There is also a (very successful, albeit somewhat slow) general\n",
      "    implementation of the heuristic Risch algorithm.  This algorithm will\n",
      "    eventually be phased out as more of the full Risch algorithm is\n",
      "    implemented. See the docstring of Integral._eval_integral() for more\n",
      "    details on computing the antiderivative using algebraic methods.\n",
      "    \n",
      "    The option risch=True can be used to use only the (full) Risch algorithm.\n",
      "    This is useful if you want to know if an elementary function has an\n",
      "    elementary antiderivative.  If the indefinite Integral returned by this\n",
      "    function is an instance of NonElementaryIntegral, that means that the\n",
      "    Risch algorithm has proven that integral to be non-elementary.  Note that\n",
      "    by default, additional methods (such as the Meijer G method outlined\n",
      "    below) are tried on these integrals, as they may be expressible in terms\n",
      "    of special functions, so if you only care about elementary answers, use\n",
      "    risch=True.  Also note that an unevaluated Integral returned by this\n",
      "    function is not necessarily a NonElementaryIntegral, even with risch=True,\n",
      "    as it may just be an indication that the particular part of the Risch\n",
      "    algorithm needed to integrate that function is not yet implemented.\n",
      "    \n",
      "    Another family of strategies comes from re-writing the integrand in\n",
      "    terms of so-called Meijer G-functions. Indefinite integrals of a\n",
      "    single G-function can always be computed, and the definite integral\n",
      "    of a product of two G-functions can be computed from zero to\n",
      "    infinity. Various strategies are implemented to rewrite integrands\n",
      "    as G-functions, and use this information to compute integrals (see\n",
      "    the ``meijerint`` module).\n",
      "    \n",
      "    The option manual=True can be used to use only an algorithm that tries\n",
      "    to mimic integration by hand. This algorithm does not handle as many\n",
      "    integrands as the other algorithms implemented but may return results in\n",
      "    a more familiar form. The ``manualintegrate`` module has functions that\n",
      "    return the steps used (see the module docstring for more information).\n",
      "    \n",
      "    In general, the algebraic methods work best for computing\n",
      "    antiderivatives of (possibly complicated) combinations of elementary\n",
      "    functions. The G-function methods work best for computing definite\n",
      "    integrals from zero to infinity of moderately complicated\n",
      "    combinations of special functions, or indefinite integrals of very\n",
      "    simple combinations of special functions.\n",
      "    \n",
      "    The strategy employed by the integration code is as follows:\n",
      "    \n",
      "    - If computing a definite integral, and both limits are real,\n",
      "      and at least one limit is +- oo, try the G-function method of\n",
      "      definite integration first.\n",
      "    \n",
      "    - Try to find an antiderivative, using all available methods, ordered\n",
      "      by performance (that is try fastest method first, slowest last; in\n",
      "      particular polynomial integration is tried first, Meijer\n",
      "      G-functions second to last, and heuristic Risch last).\n",
      "    \n",
      "    - If still not successful, try G-functions irrespective of the\n",
      "      limits.\n",
      "    \n",
      "    The option meijerg=True, False, None can be used to, respectively:\n",
      "    always use G-function methods and no others, never use G-function\n",
      "    methods, or use all available methods (in order as described above).\n",
      "    It defaults to None.\n",
      "    \n",
      "    Examples\n",
      "    ========\n",
      "    \n",
      "    >>> from sympy import integrate, log, exp, oo\n",
      "    >>> from sympy.abc import a, x, y\n",
      "    \n",
      "    >>> integrate(x*y, x)\n",
      "    x**2*y/2\n",
      "    \n",
      "    >>> integrate(log(x), x)\n",
      "    x*log(x) - x\n",
      "    \n",
      "    >>> integrate(log(x), (x, 1, a))\n",
      "    a*log(a) - a + 1\n",
      "    \n",
      "    >>> integrate(x)\n",
      "    x**2/2\n",
      "    \n",
      "    Terms that are independent of x are dropped by indefinite integration:\n",
      "    \n",
      "    >>> from sympy import sqrt\n",
      "    >>> integrate(sqrt(1 + x), (x, 0, x))\n",
      "    2*(x + 1)**(3/2)/3 - 2/3\n",
      "    >>> integrate(sqrt(1 + x), x)\n",
      "    2*(x + 1)**(3/2)/3\n",
      "    \n",
      "    >>> integrate(x*y)\n",
      "    Traceback (most recent call last):\n",
      "    ...\n",
      "    ValueError: specify integration variables to integrate x*y\n",
      "    \n",
      "    Note that ``integrate(x)`` syntax is meant only for convenience\n",
      "    in interactive sessions and should be avoided in library code.\n",
      "    \n",
      "    >>> integrate(x**a*exp(-x), (x, 0, oo)) # same as conds='piecewise'\n",
      "    Piecewise((gamma(a + 1), -re(a) < 1),\n",
      "        (Integral(x**a*exp(-x), (x, 0, oo)), True))\n",
      "    \n",
      "    >>> integrate(x**a*exp(-x), (x, 0, oo), conds='none')\n",
      "    gamma(a + 1)\n",
      "    \n",
      "    >>> integrate(x**a*exp(-x), (x, 0, oo), conds='separate')\n",
      "    (gamma(a + 1), -re(a) < 1)\n",
      "    \n",
      "    See Also\n",
      "    ========\n",
      "    \n",
      "    Integral, Integral.doit\n",
      "\n"
     ]
    }
   ],
   "source": [
    "help(integrate)"
   ]
  },
  {
   "cell_type": "code",
   "execution_count": 21,
   "metadata": {
    "collapsed": true
   },
   "outputs": [],
   "source": [
    "integrate??"
   ]
  },
  {
   "cell_type": "markdown",
   "metadata": {},
   "source": [
    "## Examples"
   ]
  },
  {
   "cell_type": "markdown",
   "metadata": {},
   "source": [
    "### Solving algebraic equations\n",
    "\n",
    "We can solve equations using ``solveset``:"
   ]
  },
  {
   "cell_type": "code",
   "execution_count": 22,
   "metadata": {
    "collapsed": false
   },
   "outputs": [
    {
     "data": {
      "image/png": "[encoded data removed]",
      "text/latex": [
       "$$\\left\\{- \\frac{b}{2 a} - \\frac{1}{2 a} \\sqrt{- 4 a c + b^{2}}, - \\frac{b}{2 a} + \\frac{1}{2 a} \\sqrt{- 4 a c + b^{2}}\\right\\}$$"
      ],
      "text/plain": [
       "⎧           _____________             _____________⎫\n",
       "⎪          ╱           2             ╱           2 ⎪\n",
       "⎨   b    ╲╱  -4⋅a⋅c + b       b    ╲╱  -4⋅a⋅c + b  ⎬\n",
       "⎪- ─── - ────────────────, - ─── + ────────────────⎪\n",
       "⎩  2⋅a         2⋅a           2⋅a         2⋅a       ⎭"
      ]
     },
     "execution_count": 22,
     "metadata": {},
     "output_type": "execute_result"
    }
   ],
   "source": [
    "a, b, c = symbols(\"a b c\")\n",
    "solveset(a*x**2 + b*x + c, x)"
   ]
  },
  {
   "cell_type": "markdown",
   "metadata": {},
   "source": [
    "We should enter the equations as equated to 0, or as an equation"
   ]
  },
  {
   "cell_type": "code",
   "execution_count": 23,
   "metadata": {
    "collapsed": false
   },
   "outputs": [
    {
     "data": {
      "image/png": "[encoded data removed]",
      "text/latex": [
       "$$\\left\\{- \\frac{b}{2 a} - \\frac{1}{2 a} \\sqrt{- 4 a c + b^{2}}, - \\frac{b}{2 a} + \\frac{1}{2 a} \\sqrt{- 4 a c + b^{2}}\\right\\}$$"
      ],
      "text/plain": [
       "⎧           _____________             _____________⎫\n",
       "⎪          ╱           2             ╱           2 ⎪\n",
       "⎨   b    ╲╱  -4⋅a⋅c + b       b    ╲╱  -4⋅a⋅c + b  ⎬\n",
       "⎪- ─── - ────────────────, - ─── + ────────────────⎪\n",
       "⎩  2⋅a         2⋅a           2⋅a         2⋅a       ⎭"
      ]
     },
     "execution_count": 23,
     "metadata": {},
     "output_type": "execute_result"
    }
   ],
   "source": [
    "solveset(Eq(a*x**2 + b*x, -c), x)"
   ]
  },
  {
   "cell_type": "markdown",
   "metadata": {},
   "source": [
    "### Linear Algebra\n",
    "\n",
    "We use ``Matrix`` to create matrices. Matrices can contain expressions. And we use the method ``.inv()`` to compute the inverse and ``*`` to multiply matrices."
   ]
  },
  {
   "cell_type": "code",
   "execution_count": 24,
   "metadata": {
    "collapsed": false
   },
   "outputs": [
    {
     "data": {
      "image/png": "[encoded data removed]",
      "text/latex": [
       "$$\\left[\\begin{matrix}1 & -1\\\\1 & \\sin{\\left (c \\right )}\\end{matrix}\\right]$$"
      ],
      "text/plain": [
       "⎡1    -1  ⎤\n",
       "⎢         ⎥\n",
       "⎣1  sin(c)⎦"
      ]
     },
     "metadata": {},
     "output_type": "display_data"
    }
   ],
   "source": [
    "A = Matrix([\n",
    "        [1, -1],\n",
    "        [1, sin(c)]\n",
    "    ])\n",
    "display(A)"
   ]
  },
  {
   "cell_type": "code",
   "execution_count": 25,
   "metadata": {
    "collapsed": false
   },
   "outputs": [
    {
     "data": {
      "image/png": "[encoded data removed]",
      "text/latex": [
       "$$\\left[\\begin{matrix}1 - \\frac{1}{\\sin{\\left (c \\right )} + 1} & \\frac{1}{\\sin{\\left (c \\right )} + 1}\\\\- \\frac{1}{\\sin{\\left (c \\right )} + 1} & \\frac{1}{\\sin{\\left (c \\right )} + 1}\\end{matrix}\\right]$$"
      ],
      "text/plain": [
       "⎡        1           1     ⎤\n",
       "⎢1 - ──────────  ──────────⎥\n",
       "⎢    sin(c) + 1  sin(c) + 1⎥\n",
       "⎢                          ⎥\n",
       "⎢     -1             1     ⎥\n",
       "⎢  ──────────    ──────────⎥\n",
       "⎣  sin(c) + 1    sin(c) + 1⎦"
      ]
     },
     "metadata": {},
     "output_type": "display_data"
    }
   ],
   "source": [
    "B = A.inv()\n",
    "display(B)"
   ]
  },
  {
   "cell_type": "code",
   "execution_count": 26,
   "metadata": {
    "collapsed": false
   },
   "outputs": [
    {
     "data": {
      "image/png": "[encoded data removed]",
      "text/latex": [
       "$$\\left[\\begin{matrix}1 & 0\\\\1 - \\frac{\\sin{\\left (c \\right )}}{\\sin{\\left (c \\right )} + 1} - \\frac{1}{\\sin{\\left (c \\right )} + 1} & \\frac{\\sin{\\left (c \\right )}}{\\sin{\\left (c \\right )} + 1} + \\frac{1}{\\sin{\\left (c \\right )} + 1}\\end{matrix}\\right]$$"
      ],
      "text/plain": [
       "⎡             1                          0           ⎤\n",
       "⎢                                                    ⎥\n",
       "⎢      sin(c)         1         sin(c)         1     ⎥\n",
       "⎢1 - ────────── - ──────────  ────────── + ──────────⎥\n",
       "⎣    sin(c) + 1   sin(c) + 1  sin(c) + 1   sin(c) + 1⎦"
      ]
     },
     "execution_count": 26,
     "metadata": {},
     "output_type": "execute_result"
    }
   ],
   "source": [
    "A * B"
   ]
  },
  {
   "cell_type": "markdown",
   "metadata": {},
   "source": [
    "This should be the identity matrix, let us simplify the expression. There are several simplification functions, and ``simplify`` is the most general one. Simplifying is a complicated matter... if you are uncertain; use ``simplify``."
   ]
  },
  {
   "cell_type": "code",
   "execution_count": 27,
   "metadata": {
    "collapsed": false
   },
   "outputs": [
    {
     "data": {
      "image/png": "[encoded data removed]",
      "text/latex": [
       "$$\\left[\\begin{matrix}1 & 0\\\\0 & 1\\end{matrix}\\right]$$"
      ],
      "text/plain": [
       "⎡1  0⎤\n",
       "⎢    ⎥\n",
       "⎣0  1⎦"
      ]
     },
     "execution_count": 27,
     "metadata": {},
     "output_type": "execute_result"
    }
   ],
   "source": [
    "simplify(A * B)"
   ]
  },
  {
   "cell_type": "markdown",
   "metadata": {},
   "source": [
    "### Plotting\n",
    "\n",
    "We can make 2D and 3D plots"
   ]
  },
  {
   "cell_type": "code",
   "execution_count": 28,
   "metadata": {
    "collapsed": true
   },
   "outputs": [],
   "source": [
    "%matplotlib inline\n",
    "from sympy.plotting import plot3d"
   ]
  },
  {
   "cell_type": "code",
   "execution_count": 29,
   "metadata": {
    "collapsed": false
   },
   "outputs": [
    {
     "data": {
      "image/png": "[encoded data removed]",
      "text/plain": [
       "<matplotlib.figure.Figure at 0x8ba2940>"
      ]
     },
     "metadata": {},
     "output_type": "display_data"
    }
   ],
   "source": [
    "\n",
    "plot(sin(x), (x, -pi, pi));"
   ]
  },
  {
   "cell_type": "code",
   "execution_count": 30,
   "metadata": {
    "collapsed": false
   },
   "outputs": [
    {
     "data": {
      "image/png": "[encoded data removed]",
      "text/plain": [
       "<matplotlib.figure.Figure at 0x9124a20>"
      ]
     },
     "metadata": {},
     "output_type": "display_data"
    }
   ],
   "source": [
    "monkey_saddle = x**3 - 3*x*y**2\n",
    "p = plot3d(monkey_saddle)"
   ]
  },
  {
   "cell_type": "markdown",
   "metadata": {},
   "source": [
    "### Derivatives and differential equations\n",
    "\n",
    "We can use the function ``diff`` or the method ``.diff()`` to compute derivatives."
   ]
  },
  {
   "cell_type": "code",
   "execution_count": 31,
   "metadata": {
    "collapsed": true
   },
   "outputs": [],
   "source": [
    "f = lambda x: x**2"
   ]
  },
  {
   "cell_type": "code",
   "execution_count": 32,
   "metadata": {
    "collapsed": false
   },
   "outputs": [
    {
     "data": {
      "image/png": "[encoded data removed]",
      "text/latex": [
       "$$2 x$$"
      ],
      "text/plain": [
       "2⋅x"
      ]
     },
     "execution_count": 32,
     "metadata": {},
     "output_type": "execute_result"
    }
   ],
   "source": [
    "diff(f(x), x)"
   ]
  },
  {
   "cell_type": "code",
   "execution_count": 33,
   "metadata": {
    "collapsed": false
   },
   "outputs": [
    {
     "data": {
      "image/png": "[encoded data removed]",
      "text/latex": [
       "$$2 x$$"
      ],
      "text/plain": [
       "2⋅x"
      ]
     },
     "execution_count": 33,
     "metadata": {},
     "output_type": "execute_result"
    }
   ],
   "source": [
    "f(x).diff(x)"
   ]
  },
  {
   "cell_type": "code",
   "execution_count": 34,
   "metadata": {
    "collapsed": true
   },
   "outputs": [],
   "source": [
    "g = lambda x: sin(x)"
   ]
  },
  {
   "cell_type": "code",
   "execution_count": 35,
   "metadata": {
    "collapsed": false
   },
   "outputs": [
    {
     "data": {
      "image/png": "[encoded data removed]",
      "text/latex": [
       "$$2 x \\cos{\\left (x^{2} \\right )}$$"
      ],
      "text/plain": [
       "       ⎛ 2⎞\n",
       "2⋅x⋅cos⎝x ⎠"
      ]
     },
     "execution_count": 35,
     "metadata": {},
     "output_type": "execute_result"
    }
   ],
   "source": [
    "diff(g(f(x)), x)"
   ]
  },
  {
   "cell_type": "markdown",
   "metadata": {},
   "source": [
    "Yes, SymPy knows about the chain rule.\n",
    "\n",
    "To finish, let us solve a second order ODE\n",
    "\n",
    "$$ u''(t) + \\omega^2 u(t) = 0$$"
   ]
  },
  {
   "cell_type": "code",
   "execution_count": 36,
   "metadata": {
    "collapsed": false
   },
   "outputs": [],
   "source": [
    "u = symbols(\"u\", cls=Function)\n",
    "omega = symbols(\"omega\", positive=True)"
   ]
  },
  {
   "cell_type": "code",
   "execution_count": 37,
   "metadata": {
    "collapsed": false
   },
   "outputs": [
    {
     "data": {
      "image/png": "[encoded data removed]",
      "text/latex": [
       "$$u{\\left (t \\right )} = C_{1} \\sin{\\left (\\omega t \\right )} + C_{2} \\cos{\\left (\\omega t \\right )}$$"
      ],
      "text/plain": [
       "u(t) = C₁⋅sin(ω⋅t) + C₂⋅cos(ω⋅t)"
      ]
     },
     "execution_count": 37,
     "metadata": {},
     "output_type": "execute_result"
    }
   ],
   "source": [
    "ode = u(t).diff(t, 2) + omega**2 * u(t)\n",
    "dsolve(ode, u(t))"
   ]
  },
  {
   "cell_type": "markdown",
   "metadata": {},
   "source": [
    "The following cell change the style of the notebook."
   ]
  },
  {
   "cell_type": "code",
   "execution_count": 38,
   "metadata": {
    "collapsed": false,
    "scrolled": true
   },
   "outputs": [
    {
     "data": {
      "text/html": [
       "\n",
       "<link href='http://fonts.googleapis.com/css?family=Fenix' rel='stylesheet' type='text/css'>\n",
       "<link href='http://fonts.googleapis.com/css?family=Alegreya+Sans:100,300,400,500,700,800,900,100italic,300italic,400italic,500italic,700italic,800italic,900italic' rel='stylesheet' type='text/css'>\n",
       "<link href='http://fonts.googleapis.com/css?family=Source+Code+Pro:300,400' rel='stylesheet' type='text/css'>\n",
       "<style>\n",
       "/* Based on Lorena Barba template available at: https://github.com/barbagroup/AeroPython/blob/master/styles/custom.css*/\n",
       "@font-face {\n",
       "font-family: \"Computer Modern\";\n",
       "src: url('http://mirrors.ctan.org/fonts/cm-unicode/fonts/otf/cmunss.otf');\n",
       "}\n",
       "div.cell{\n",
       "width:800px;\n",
       "margin-left:16% !important;\n",
       "margin-right:auto;\n",
       "}\n",
       "h1 {\n",
       "font-family: 'Alegreya Sans', sans-serif;\n",
       "}\n",
       "h2 {\n",
       "font-family: 'Fenix', serif;\n",
       "}\n",
       "h3{\n",
       "font-family: 'Fenix', serif;\n",
       "margin-top:12px;\n",
       "margin-bottom: 3px;\n",
       "}\n",
       "h4{\n",
       "font-family: 'Fenix', serif;\n",
       "}\n",
       "h5 {\n",
       "font-family: 'Alegreya Sans', sans-serif;\n",
       "}\t\n",
       "div.text_cell_render{\n",
       "font-family: 'Alegreya Sans',Computer Modern, \"Helvetica Neue\", Arial, Helvetica, Geneva, sans-serif;\n",
       "line-height: 135%;\n",
       "font-size: 120%;\n",
       "width:600px;\n",
       "margin-left:auto;\n",
       "margin-right:auto;\n",
       "}\n",
       ".CodeMirror{\n",
       "font-family: \"Source Code Pro\";\n",
       "font-size: 90%;\n",
       "}\n",
       "/* .prompt{\n",
       "display: None;\n",
       "}*/\n",
       ".text_cell_render h1 {\n",
       "font-weight: 200;\n",
       "font-size: 50pt;\n",
       "line-height: 100%;\n",
       "color:#CD2305;\n",
       "margin-bottom: 0.5em;\n",
       "margin-top: 0.5em;\n",
       "display: block;\n",
       "}\t\n",
       ".text_cell_render h5 {\n",
       "font-weight: 300;\n",
       "font-size: 16pt;\n",
       "color: #CD2305;\n",
       "font-style: italic;\n",
       "margin-bottom: .5em;\n",
       "margin-top: 0.5em;\n",
       "display: block;\n",
       "}\n",
       ".warning{\n",
       "color: rgb( 240, 20, 20 )\n",
       "}\n",
       "</style>\n",
       "<script>\n",
       "MathJax.Hub.Config({\n",
       "TeX: {\n",
       "extensions: [\"AMSmath.js\"]\n",
       "},\n",
       "tex2jax: {\n",
       "inlineMath: [ ['$','$'], [\"\\\\(\",\"\\\\)\"] ],\n",
       "displayMath: [ ['$$','$$'], [\"\\\\[\",\"\\\\]\"] ]\n",
       "},\n",
       "displayAlign: 'center', // Change this to 'center' to center equations.\n",
       "\"HTML-CSS\": {\n",
       "styles: {'.MathJax_Display': {\"margin\": 4}}\n",
       "}\n",
       "});\n",
       "</script>\n",
       "\n",
       "\n"
      ],
      "text/plain": [
       "<IPython.core.display.HTML object>"
      ]
     },
     "execution_count": 38,
     "metadata": {},
     "output_type": "execute_result"
    }
   ],
   "source": [
    "from IPython.core.display import HTML\n",
    "def css_styling():\n",
    "    styles = open('./styles/custom_barba.css', 'r').read()\n",
    "    return HTML(styles)\n",
    "css_styling()"
   ]
  },
  {
   "cell_type": "code",
   "execution_count": null,
   "metadata": {
    "collapsed": true
   },
   "outputs": [],
   "source": []
  }
 ],
 "metadata": {
  "anaconda-cloud": {},
  "kernelspec": {
   "display_name": "Python [Root]",
   "language": "python",
   "name": "Python [Root]"
  },
  "language_info": {
   "codemirror_mode": {
    "name": "ipython",
    "version": 2
   },
   "file_extension": ".py",
   "mimetype": "text/x-python",
   "name": "python",
   "nbconvert_exporter": "python",
   "pygments_lexer": "ipython2",
   "version": "2.7.12"
  }
 },
 "nbformat": 4,
 "nbformat_minor": 1
}
