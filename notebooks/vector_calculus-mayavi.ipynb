{
 "cells": [
  {
   "cell_type": "markdown",
   "metadata": {},
   "source": [
    "# Coordinate systems"
   ]
  },
  {
   "cell_type": "markdown",
   "metadata": {},
   "source": [
    "## Introduction\n",
    "\n",
    "This notebooks provides a tutorial about (curvilinear) coordinate systems. We use Mayavi to do the visualization of some of the surface for constant coordinate values.\n",
    "\n",
    "\n",
    "\n",
    "### Use of Mayavi in this notebook\n",
    "Mayavi can display either images or X3D elements on the notebook. The images are static and one cannot interact with them. The X3D output produces a fully interactive 3D scene. For information on how to interact with the scene, see here: http://www.x3dom.org/documentation/interaction/\n",
    "\n",
    "Mayavi ships with some javascript files that can be installed as:\n",
    "\n",
    "    $ jupyter nbextension install --py mayavi --user\n",
    "\n",
    "This will install the x3dom Javascript and CSS files locally. Note that you do not need to “enable” the extension or anything after you run the above. For more instructions and options see the Installation of Jupyter Extensions. Doing this allows one to view X3D files without a network connection.\n",
    "\n",
    "To view Mayavi visualizations on the notebook one should first do:\n",
    "\n",
    "    from mayavi import mlab\n",
    "    mlab.init_notebook()\n",
    "\n",
    "    Subequently, one may simply do:\n",
    "\n",
    "    s = mlab.test_plot3d()\n",
    "    s\n",
    "\n",
    "When the init_notebook method is called it configures the Mayavi objects so they can be rendered on the Jupyter notebook.\n",
    "\n",
    "**More information:** http://docs.enthought.com/mayavi/mayavi/tips.html"
   ]
  },
  {
   "cell_type": "code",
   "execution_count": 1,
   "metadata": {},
   "outputs": [],
   "source": [
    "from mayavi import mlab\n",
    "import numpy as np"
   ]
  },
  {
   "cell_type": "code",
   "execution_count": 2,
   "metadata": {},
   "outputs": [
    {
     "name": "stdout",
     "output_type": "stream",
     "text": [
      "Notebook initialized with ipy backend.\n"
     ]
    }
   ],
   "source": [
    "mlab.init_notebook()"
   ]
  },
  {
   "cell_type": "code",
   "execution_count": 3,
   "metadata": {},
   "outputs": [],
   "source": [
    "red = (0.9, 0.1, 0.1)\n",
    "blue = (0.2, 0.5, 0.7)\n",
    "green = (0.3, 0.7, 0.3)"
   ]
  },
  {
   "cell_type": "markdown",
   "metadata": {},
   "source": [
    "## Cylindrical coordinates\n",
    "\n",
    "The [ISO standard 80000-2](https://en.wikipedia.org/wiki/ISO_80000-2) recommends the use of $(ρ, φ, z)$, where $ρ$ is the radial coordinate, $\\varphi$ the azimuth, and $z$ the height.\n",
    "\n",
    "For the conversion between cylindrical and Cartesian coordinates, it is convenient to assume that the reference plane of the former is the Cartesian $xy$-plane (with equation $z=0$, and the cylindrical axis is the Cartesian $z$-axis. Then the $z$-coordinate is the same in both systems, and the correspondence between cylindrical $(\\rho, \\varphi)$ and Cartesian $(x, y)$ are the same as for polar coordinates, namely\n",
    "\n",
    "\\begin{align}\n",
    "x &= \\rho \\cos \\varphi \\\\\n",
    "y &= \\rho \\sin \\varphi\n",
    "\\end{align}\n",
    "\n",
    "in one direction, and\n",
    "\n",
    "\\begin{align}\n",
    "    \\rho &= \\sqrt{x^2+y^2} \\\\\n",
    "    \\varphi &= \\begin{cases}\n",
    "        0 & \\mbox{if } x = 0 \\mbox{ and } y = 0\\\\\n",
    "        \\arcsin\\left(\\frac{y}{\\rho}\\right) & \\mbox{if } x \\geq 0 \\\\\t\n",
    "        \\arctan\\left(\\frac{y}{x}\\right) & \\mbox{if } x > 0 \\\\\t\n",
    "        -\\arcsin\\left(\\frac{y}{\\rho}\\right) + \\pi & \\mbox{if } x < 0\n",
    "    \\end{cases}\n",
    "\\end{align}\n",
    "\n",
    "in the other. It is also common to use [$\\varphi = atan2(y, x)$](https://en.wikipedia.org/wiki/Atan2).\n"
   ]
  },
  {
   "cell_type": "code",
   "execution_count": 4,
   "metadata": {},
   "outputs": [],
   "source": [
    "cyl = mlab.figure(bgcolor=(1.0, 1.0, 1.0))\n",
    "mlab.clf()"
   ]
  },
  {
   "cell_type": "code",
   "execution_count": 5,
   "metadata": {},
   "outputs": [],
   "source": [
    "# Cylinder\n",
    "phi, z = np.mgrid[0:2*np.pi:31j, -2:2*np.pi:31j]\n",
    "x = 2*np.cos(phi)\n",
    "y = 2*np.sin(phi)\n",
    "z = z\n",
    "cylinder = mlab.mesh(x, y, z, color=red)"
   ]
  },
  {
   "cell_type": "code",
   "execution_count": 6,
   "metadata": {},
   "outputs": [],
   "source": [
    "# Vertical plane\n",
    "rho, z = np.mgrid[0:3:31j, -2:2*np.pi:31j]\n",
    "x = rho*np.cos(np.pi/4)\n",
    "y = rho*np.sin(np.pi/4)\n",
    "z = z\n",
    "plane = mlab.mesh(x, y, z, color=blue, opacity=0.6)"
   ]
  },
  {
   "cell_type": "code",
   "execution_count": 7,
   "metadata": {},
   "outputs": [],
   "source": [
    "# Horizontal plane\n",
    "rho, phi = np.mgrid[0:3:31j, 0:2*np.pi:31j]\n",
    "x = rho*np.cos(phi)\n",
    "y = rho*np.sin(phi)\n",
    "z = np.ones_like(x)\n",
    "plane = mlab.mesh(x, y, z, color=green, opacity=0.6)"
   ]
  },
  {
   "cell_type": "code",
   "execution_count": 8,
   "metadata": {},
   "outputs": [
    {
     "data": {
      "application/vnd.jupyter.widget-view+json": {
       "model_id": "7f72429634e64c6b871611c66069b72f",
       "version_major": 2,
       "version_minor": 0
      },
      "text/plain": [
       "Image(value=b'\\x89PNG\\r\\n\\x1a\\n\\x00\\x00\\x00\\rIHDR\\x00\\x00\\x01\\x90\\x00\\x00\\x01^\\x08\\x02\\x00\\x00\\x00$?\\xde_\\x00\\…"
      ]
     },
     "metadata": {},
     "output_type": "display_data"
    }
   ],
   "source": [
    "cyl"
   ]
  },
  {
   "cell_type": "markdown",
   "metadata": {},
   "source": [
    "## Spherical coordinates\n",
    "\n",
    "\n",
    "The use of $(r, θ, φ)$ to denote radial distance, inclination (or elevation), and azimuth, respectively, is common practice in physics, and is specified by [ISO standard 80000-2](https://en.wikipedia.org/wiki/ISO_80000-2).\n",
    "\n",
    "\n",
    "The spherical coordinates of a point can be obtained from its [Cartesian coordinate system](https://en.wikipedia.org/wiki/ISO_80000-2) $(x, y, z)$\n",
    "\n",
    "\\begin{align}\n",
    "r&=\\sqrt{x^2 + y^2 + z^2} \\\\\n",
    "\\theta &= \\arccos\\frac{z}{\\sqrt{x^2 + y^2 + z^2}} = \\arccos\\frac{z}{r} \\\\\n",
    "\\varphi &= \\arctan \\frac{y}{x}\n",
    "\\end{align}\n",
    "\n",
    "The inverse tangent denoted in $\\varphi = \\arctan\\left(\\frac{y}{x}\\right)$ must be suitably defined , taking into account the correct quadrant of $(x, y)$ (using the function ``atan2``).\n",
    "\n",
    "Conversely, the Cartesian coordinates may be retrieved from the spherical coordinates (_radius_ $r$, _inclination_ $\\theta$, _azimuth_ $\\varphi$), where $r \\in [0, \\infty)$, $\\theta \\in [0, \\pi]$ and $\\varphi \\in [0, 2\\pi)$, by:\n",
    "\n",
    "\\begin{align}\n",
    "x&=r \\, \\sin\\theta \\, \\cos\\varphi \\\\\n",
    "y&=r \\, \\sin\\theta \\, \\sin\\varphi \\\\\n",
    "z&=r \\, \\cos\\theta\n",
    "\\end{align}"
   ]
  },
  {
   "cell_type": "code",
   "execution_count": 9,
   "metadata": {},
   "outputs": [],
   "source": [
    "sph = mlab.figure(bgcolor=(1.0, 1.0, 1.0))\n",
    "mlab.clf()\n",
    "theta, phi = np.mgrid[0:np.pi:21j, 0:np.pi:21j]"
   ]
  },
  {
   "cell_type": "code",
   "execution_count": 10,
   "metadata": {},
   "outputs": [],
   "source": [
    "# Sphere\n",
    "x = np.sin(phi) * np.cos(theta)\n",
    "y = np.sin(phi) * np.sin(theta)\n",
    "z = np.cos(phi)\n",
    "sphere = mlab.mesh(x, y, z, color=red)\n",
    "spher2e = mlab.mesh(-x, -y, z,representation='wireframe', color=red)"
   ]
  },
  {
   "cell_type": "code",
   "execution_count": 11,
   "metadata": {},
   "outputs": [],
   "source": [
    "# Cone\n",
    "x = theta/3 * np.cos(phi)\n",
    "y = theta/3 * np.sin(phi)\n",
    "z = theta/3\n",
    "cone = mlab.mesh(x, y, z, color=blue, opacity=0.6)\n",
    "cone2 = mlab.mesh(-x, -y, z, representation='wireframe', color=blue)"
   ]
  },
  {
   "cell_type": "code",
   "execution_count": 12,
   "metadata": {},
   "outputs": [],
   "source": [
    "# Plane\n",
    "x = theta/np.pi\n",
    "y = theta/np.pi\n",
    "z = phi - np.pi/2\n",
    "plane = mlab.mesh(x, y, z, color=green)"
   ]
  },
  {
   "cell_type": "code",
   "execution_count": 13,
   "metadata": {
    "scrolled": true
   },
   "outputs": [
    {
     "data": {
      "application/vnd.jupyter.widget-view+json": {
       "model_id": "e0b80c4e18134493be7612b38d0e00e0",
       "version_major": 2,
       "version_minor": 0
      },
      "text/plain": [
       "Image(value=b'\\x89PNG\\r\\n\\x1a\\n\\x00\\x00\\x00\\rIHDR\\x00\\x00\\x01\\x90\\x00\\x00\\x01^\\x08\\x02\\x00\\x00\\x00$?\\xde_\\x00\\…"
      ]
     },
     "metadata": {},
     "output_type": "display_data"
    }
   ],
   "source": [
    "sph"
   ]
  },
  {
   "cell_type": "markdown",
   "metadata": {},
   "source": [
    "## Ellipsoidal coordinates"
   ]
  },
  {
   "cell_type": "code",
   "execution_count": null,
   "metadata": {},
   "outputs": [],
   "source": [
    "ellip = mlab.figure(bgcolor=(1.0, 1.0, 1.0))\n",
    "mlab.clf()\n",
    "v, theta = np.mgrid[0:np.pi/2:21j, 0:np.pi:21j]\n",
    "a = 3\n",
    "b = 2\n",
    "c = 1"
   ]
  },
  {
   "cell_type": "code",
   "execution_count": null,
   "metadata": {},
   "outputs": [],
   "source": [
    "# Ellipsoid\n",
    "lam = 3\n",
    "x =  np.sqrt(a**2  + lam) * np.cos(v) * np.cos(theta)\n",
    "y = np.sqrt(b**2  + lam)* np.cos(v) * np.sin(theta)\n",
    "z = np.sqrt(c**2 + lam) * np.sin(v)\n",
    "ellipsoid = mlab.mesh(x, y, z, color=red)\n",
    "ellipsoid2 = mlab.mesh(x, y, -z, color=red)\n",
    "ellipsoid3 = mlab.mesh(x, -y, z, representation='wireframe', color=red)\n",
    "ellipsoid4 = mlab.mesh(x, -y, -z, representation='wireframe', color=red)"
   ]
  },
  {
   "cell_type": "code",
   "execution_count": null,
   "metadata": {},
   "outputs": [],
   "source": [
    "# Hyperboloid of one sheet\n",
    "mu = 2\n",
    "x = np.sqrt(a**2 + mu) * np.cosh(v) * np.cos(theta)\n",
    "y = np.sqrt(b**2 + mu) * np.cosh(v) * np.sin(theta)\n",
    "z = np.sqrt(c**2 + mu) * np.sinh(v)\n",
    "z = np.sqrt(c**2 + mu) * np.sinh(v)\n",
    "hyper = mlab.mesh(x, y, z, color=blue)\n",
    "hyper2 = mlab.mesh(x, y, -z, color=blue)\n",
    "hyper3 = mlab.mesh(x, -y, z, representation='wireframe', color=blue)\n",
    "hyper4 = mlab.mesh(x, -y, -z, representation='wireframe', color=blue)"
   ]
  },
  {
   "cell_type": "code",
   "execution_count": null,
   "metadata": {},
   "outputs": [],
   "source": [
    "# Hyperboloid of two sheets\n",
    "nu = 1\n",
    "x = np.sqrt(a**2 + nu) * np.cosh(v)\n",
    "y = np.sqrt(c**2 + nu) * np.sinh(v) * np.sin(theta)\n",
    "z = np.sqrt(b**2 + nu) * np.sinh(v) * np.cos(theta)\n",
    "hyper_up = mlab.mesh(x, y, z, color=green)\n",
    "hyper_down = mlab.mesh(-x, y, z, color=green)\n",
    "hyper_up2 = mlab.mesh(x, -y, z, representation='wireframe', color=green)\n",
    "hyper_down2 = mlab.mesh(-x, -y, z, representation='wireframe', color=green)"
   ]
  },
  {
   "cell_type": "code",
   "execution_count": null,
   "metadata": {},
   "outputs": [],
   "source": [
    "ellip"
   ]
  },
  {
   "cell_type": "markdown",
   "metadata": {},
   "source": [
    "## References\n",
    "\n",
    "\n",
    "1. Wikipedia contributors. [\"Cylindrical coordinate system.\"](https://en.wikipedia.org/wiki/Cylindrical_coordinate_system) Wikipedia, The Free Encyclopedia. Wikipedia, The Free Encyclopedia, 12 Dec. 2016. Web. 9 Feb. 2017.\n",
    "\n",
    "2. Wikipedia contributors. [\"Spherical coordinate system.\"](https://en.wikipedia.org/wiki/Spherical_coordinate_system) Wikipedia, The Free Encyclopedia. Wikipedia, The Free Encyclopedia, 29 Jan. 2017. Web. 9 Feb. 2017.\n",
    "\n",
    "3. Enthought Inc. [Mayavi: Tips and Trick](http://docs.enthought.com/mayavi/mayavi/tips.html). Web. 9 Feb. 2017."
   ]
  },
  {
   "cell_type": "code",
   "execution_count": null,
   "metadata": {},
   "outputs": [],
   "source": []
  },
  {
   "cell_type": "code",
   "execution_count": null,
   "metadata": {},
   "outputs": [],
   "source": [
    "from IPython.core.display import HTML\n",
    "def css_styling():\n",
    "    styles = open('./styles/custom_barba.css', 'r').read()\n",
    "    return HTML(styles)\n",
    "css_styling()"
   ]
  },
  {
   "cell_type": "code",
   "execution_count": null,
   "metadata": {},
   "outputs": [],
   "source": []
  }
 ],
 "metadata": {
  "anaconda-cloud": {},
  "kernelspec": {
   "display_name": "Python 3",
   "language": "python",
   "name": "python3"
  },
  "varInspector": {
   "cols": {
    "lenName": 16,
    "lenType": 16,
    "lenVar": 40
   },
   "kernels_config": {
    "python": {
     "delete_cmd_postfix": "",
     "delete_cmd_prefix": "del ",
     "library": "var_list.py",
     "varRefreshCmd": "print(var_dic_list())"
    },
    "r": {
     "delete_cmd_postfix": ") ",
     "delete_cmd_prefix": "rm(",
     "library": "var_list.r",
     "varRefreshCmd": "cat(var_dic_list()) "
    }
   },
   "types_to_exclude": [
    "module",
    "function",
    "builtin_function_or_method",
    "instance",
    "_Feature"
   ],
   "window_display": false
  }
 },
 "nbformat": 4,
 "nbformat_minor": 1
}
